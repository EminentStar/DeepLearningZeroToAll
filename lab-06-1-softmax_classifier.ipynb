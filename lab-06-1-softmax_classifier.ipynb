{
 "cells": [
  {
   "cell_type": "code",
   "execution_count": 1,
   "metadata": {},
   "outputs": [
    {
     "data": {
      "text/plain": [
       "'\\nsoftmax function은 여러개의 class를 구별할 때 유용하다.\\n\\n이것도 시작은 주어진 X에 학습할 W를 곱해서 값을 만드는 것으로 시작하는데, \\n이렇게 만든 값은 단순 score에 불과하고 이걸 softmax라고 불리는 function에 통과시키면 이게 확률로 나오게된다.\\n'"
      ]
     },
     "execution_count": 1,
     "metadata": {},
     "output_type": "execute_result"
    }
   ],
   "source": [
    "\"\"\"\n",
    "softmax function은 여러개의 class를 구별할 때 유용하다.\n",
    "\n",
    "이것도 시작은 주어진 X에 학습할 W를 곱해서 값을 만드는 것으로 시작하는데, \n",
    "이렇게 만든 값은 단순 score에 불과하고 이걸 softmax라고 불리는 function에 통과시키면 이게 확률로 나오게된다.\n",
    "\"\"\""
   ]
  },
  {
   "cell_type": "code",
   "execution_count": 3,
   "metadata": {
    "collapsed": true
   },
   "outputs": [],
   "source": [
    "import tensorflow as tf\n",
    "import numpy as np\n",
    "\n",
    "tf.set_random_seed(777)"
   ]
  },
  {
   "cell_type": "code",
   "execution_count": 4,
   "metadata": {
    "collapsed": true
   },
   "outputs": [],
   "source": [
    "x_data = [[1, 2, 1, 1],\n",
    "          [2, 1, 3, 2],\n",
    "          [3, 1, 3, 4],\n",
    "          [4, 1, 5, 5],\n",
    "          [1, 7, 5, 5],\n",
    "          [1, 2, 5, 6],\n",
    "          [1, 6, 6, 6],\n",
    "          [1, 7, 7, 7]]\n",
    "y_data = [[0, 0, 1], # 2\n",
    "          [0, 0, 1], # 2\n",
    "          [0, 0, 1], # 2\n",
    "          [0, 1, 0], # 1\n",
    "          [0, 1, 0], # 1\n",
    "          [0, 1, 0], # 1\n",
    "          [1, 0, 0], # 0\n",
    "          [1, 0, 0]] # 0\n",
    "\n",
    "X = tf.placeholder(\"float\", [None, 4])\n",
    "Y = tf.placeholder(\"float\", [None, 3])\n",
    "nb_classes = 3\n",
    "\n",
    "W = tf.Variable(tf.random_normal([4, nb_classes]), name='weight')\n",
    "b = tf.Variable(tf.random_normal([nb_classes]), name='bias')\n",
    "\n",
    "# tf.nn.softmax computes softmax activation\n",
    "# softmax = exp(logits) / reduce_sum(exp(logits), dim)\n",
    "hypothesis = tf.nn.softmax(tf.matmul(X, W) + b)\n",
    "\n",
    "# Cross entropy cost/loss\n",
    "cost = tf.reduce_mean(-tf.reduce_sum(Y * tf.log(hypothesis), axis=1))\n",
    "\n",
    "optimizer = tf.train.GradientDescentOptimizer(learning_rate=0.1).minimize(cost)"
   ]
  },
  {
   "cell_type": "code",
   "execution_count": 6,
   "metadata": {},
   "outputs": [
    {
     "name": "stdout",
     "output_type": "stream",
     "text": [
      "0 5.04862\n",
      "200 0.548425\n",
      "400 0.432149\n",
      "600 0.352467\n",
      "800 0.276829\n",
      "1000 0.232683\n",
      "1200 0.210553\n",
      "1400 0.192215\n",
      "1600 0.176752\n",
      "1800 0.163534\n",
      "2000 0.152108\n",
      "-----------\n",
      "[[  1.38904958e-03   9.98601854e-01   9.06129117e-06]] [1]\n",
      "-----------\n",
      "[[ 0.93119204  0.06290206  0.0059059 ]] [0]\n",
      "-----------\n",
      "[[  1.27327668e-08   3.34112905e-04   9.99665856e-01]] [2]\n",
      "-----------\n",
      "[[  1.38904958e-03   9.98601854e-01   9.06129117e-06]\n",
      " [  9.31192040e-01   6.29020557e-02   5.90589503e-03]\n",
      " [  1.27327668e-08   3.34112905e-04   9.99665856e-01]] [1 0 2]\n"
     ]
    }
   ],
   "source": [
    "# Launch graph\n",
    "with tf.Session() as sess:\n",
    "    sess.run(tf.global_variables_initializer())\n",
    "    \n",
    "    for step in range(2001):\n",
    "        sess.run(optimizer, feed_dict={X: x_data, Y: y_data})\n",
    "        if step % 200 == 0:\n",
    "            print(step, sess.run(cost, feed_dict={X: x_data, Y: y_data}))\n",
    "    \n",
    "    print('-----------')\n",
    "    \n",
    "    # Testing & one-hot encoding\n",
    "    a = sess.run(hypothesis, feed_dict={X: [[1, 11, 7, 9]]})\n",
    "    print(a, sess.run(tf.arg_max(a, 1)))\n",
    "\n",
    "    print('-----------')\n",
    "    \n",
    "    b = sess.run(hypothesis, feed_dict={X: [[1, 3, 4, 3]]})\n",
    "    print(b, sess.run(tf.arg_max(b, 1)))\n",
    "    \n",
    "    print('-----------')\n",
    "    \n",
    "    c = sess.run(hypothesis, feed_dict={X: [[1, 1, 0, 1]]})\n",
    "    print(c, sess.run(tf.arg_max(c, 1)))\n",
    "    \n",
    "    print('-----------')\n",
    "    \n",
    "    all = sess.run(hypothesis, feed_dict={\n",
    "        X: [[1, 11, 7, 9], [1, 3, 4, 3], [1, 1, 0, 1]]\n",
    "    })\n",
    "    print(all, sess.run(tf.arg_max(all, 1)))"
   ]
  },
  {
   "cell_type": "code",
   "execution_count": null,
   "metadata": {
    "collapsed": true
   },
   "outputs": [],
   "source": []
  }
 ],
 "metadata": {
  "kernelspec": {
   "display_name": "Python 3",
   "language": "python",
   "name": "python3"
  },
  "language_info": {
   "codemirror_mode": {
    "name": "ipython",
    "version": 3
   },
   "file_extension": ".py",
   "mimetype": "text/x-python",
   "name": "python",
   "nbconvert_exporter": "python",
   "pygments_lexer": "ipython3",
   "version": "3.5.2"
  }
 },
 "nbformat": 4,
 "nbformat_minor": 2
}
