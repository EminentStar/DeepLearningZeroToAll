{
 "cells": [
  {
   "cell_type": "code",
   "execution_count": 16,
   "metadata": {},
   "outputs": [
    {
     "name": "stdout",
     "output_type": "stream",
     "text": [
      "Extracting MNIST_data/train-images-idx3-ubyte.gz\n",
      "Extracting MNIST_data/train-labels-idx1-ubyte.gz\n",
      "Extracting MNIST_data/t10k-images-idx3-ubyte.gz\n",
      "Extracting MNIST_data/t10k-labels-idx1-ubyte.gz\n"
     ]
    }
   ],
   "source": [
    "import tensorflow as tf\n",
    "from tensorflow.examples.tutorials.mnist import input_data\n",
    "\n",
    "mnist = input_data.read_data_sets(\"MNIST_data/\", one_hot=True) # one_hot True면 Y값을 one_hot으로 읽어옴\n",
    "\n",
    "nb_classes = 10\n",
    "\n",
    "# MNIST data image of shape 28 * 28 = 784\n",
    "X = tf.placeholder(tf.float32, [None, 784])\n",
    "# 0 - 9 digits recognition = 10 classes\n",
    "Y = tf.placeholder(tf.float32, [None, nb_classes])\n",
    "\n",
    "W = tf.Variable(tf.random_normal([784, nb_classes])) # input 784, output 10\n",
    "b = tf.Variable(tf.random_normal([nb_classes])) # 나가는거 10개"
   ]
  },
  {
   "cell_type": "code",
   "execution_count": 23,
   "metadata": {},
   "outputs": [
    {
     "name": "stdout",
     "output_type": "stream",
     "text": [
      "Epoch:  0001 cost = 3.003811938\n",
      "Epoch:  0002 cost = 1.088052399\n",
      "Epoch:  0003 cost = 0.866260782\n",
      "Epoch:  0004 cost = 0.759675840\n",
      "Epoch:  0005 cost = 0.691962101\n",
      "Epoch:  0006 cost = 0.644020107\n",
      "Epoch:  0007 cost = 0.608367974\n",
      "Epoch:  0008 cost = 0.579906712\n",
      "Epoch:  0009 cost = 0.556276525\n",
      "Epoch:  0010 cost = 0.536791839\n",
      "Epoch:  0011 cost = 0.519390002\n",
      "Epoch:  0012 cost = 0.504778290\n",
      "Epoch:  0013 cost = 0.491194079\n",
      "Epoch:  0014 cost = 0.479636551\n",
      "Epoch:  0015 cost = 0.469050459\n",
      "Accuracy:  0.89\n",
      "Label:  [4]\n",
      "Preduction:  [4]\n"
     ]
    },
    {
     "data": {
      "image/png": "[encoded data removed]",
      "text/plain": [
       "<matplotlib.figure.Figure at 0x10a4e56d8>"
      ]
     },
     "metadata": {},
     "output_type": "display_data"
    }
   ],
   "source": [
    "\"\"\"\n",
    "-----------------------------------------------------------\n",
    "\"\"\"\n",
    "# Hypothesis (using softmax)\n",
    "hypothesis = tf.nn.softmax(tf.matmul(X, W) + b)\n",
    "\n",
    "# cost는 크로스 엔트로피??를 사용 할 꺼임\n",
    "cost = tf.reduce_mean(-tf.reduce_sum(Y * tf.log(hypothesis), axis=1))\n",
    "optimizer = tf.train.GradientDescentOptimizer(learning_rate=0.1).minimize(cost)\n",
    "\n",
    "\"\"\"\n",
    "-----------------------------------------------------------\n",
    "Softmax cliassfier for MNIST\n",
    "여기까지 이 세줄밖에 안되는 모델로 90% 성능을 냈다.\n",
    "\"\"\"\n",
    "# Test model\n",
    "is_correct = tf.equal(tf.arg_max(hypothesis, 1), tf.arg_max(Y, 1)) # one_hot인 Y\n",
    "# Calculate accuracy\n",
    "accuracy = tf.reduce_mean(tf.cast(is_correct, tf.float32))\n",
    "\n",
    "# parameters\n",
    "# 데이터가 크니깐 한꺼번에 할수없으니 조금씩 학습\n",
    "# epoch: 몇갠지는 모르지만 전체 데이터셋을 한번 다 학습시킨것을 1 epoch\n",
    "# batch_size: 전체 데이터를 한꺼번에 메모리에 못올릴때 짤라서 올리는데 그 size\n",
    "# iterations: 전체 데이터가 1000개이고 batch_size가 500개 일때 1 epoch을 하기 위해선 2 iterations을 돌아야한다.\n",
    "training_epochs = 15\n",
    "batch_size = 100\n",
    "\n",
    "with tf.Session() as sess: # 세션 열고\n",
    "    # Initialize Tensorflow variables\n",
    "    sess.run(tf.global_variables_initializer())\n",
    "    # Training cycle\n",
    "    for epoch in range(training_epochs): # 15번 돌아가겠지\n",
    "        avg_cost = 0\n",
    "        # 전체 사이즈를 batch_size로 나누면 iterations 수 구할 수있음\n",
    "        total_batch = int(mnist.train.num_examples / batch_size)\n",
    "        \n",
    "        for i in range(total_batch): # i가 iterations\n",
    "            batch_xs, batch_ys = mnist.train.next_batch(batch_size) # 100개씩 읽어와서 학습을 함\n",
    "            c, _ = sess.run([cost, optimizer], feed_dict={X: batch_xs, Y: batch_ys})\n",
    "            avg_cost += c / total_batch\n",
    "        \n",
    "        print('Epoch: ', '%04d' % (epoch + 1), 'cost =', '{:.9f}'.format(avg_cost))\n",
    "    \n",
    "    # sess.run()으로 돌릴 수도 있고, accuracy.eval()로도 돌릴 수 있음\n",
    "    print(\"Accuracy: \", accuracy.eval(session=sess,\n",
    "                                 feed_dict={X: mnist.test.images, Y: mnist.test.labels}))\n",
    "    \n",
    "    \"\"\"\n",
    "    잘 돌아가는지 테스트해보자\n",
    "    \"\"\"\n",
    "    import matplotlib.pyplot as plt\n",
    "    import random\n",
    "\n",
    "    # Get one and predict\n",
    "    r = random.randint(0, mnist.test.num_examples - 1)\n",
    "    # test할 데이터 하나 읽어와서 그 레이블이 뭔지,\n",
    "    print(\"Label: \", sess.run(tf.argmax(mnist.test.labels[r:r+1], 1))) \n",
    "    # 예측하는 건 hypothesis를 실행시키고 거기에 맞는 이미치를 던져줌\n",
    "    print(\"Preduction: \", sess.run(tf.argmax(hypothesis, 1),\n",
    "                                   feed_dict={X: mnist.test.images[r:r+1]}))\n",
    "\n",
    "    plt.imshow(mnist.test.images[r:r+1].\n",
    "              reshape(28, 28), cmap='Greys', interpolation='nearest')\n",
    "    plt.show()"
   ]
  },
  {
   "cell_type": "code",
   "execution_count": null,
   "metadata": {
    "collapsed": true
   },
   "outputs": [],
   "source": []
  },
  {
   "cell_type": "code",
   "execution_count": null,
   "metadata": {
    "collapsed": true
   },
   "outputs": [],
   "source": []
  }
 ],
 "metadata": {
  "kernelspec": {
   "display_name": "Python 3",
   "language": "python",
   "name": "python3"
  },
  "language_info": {
   "codemirror_mode": {
    "name": "ipython",
    "version": 3
   },
   "file_extension": ".py",
   "mimetype": "text/x-python",
   "name": "python",
   "nbconvert_exporter": "python",
   "pygments_lexer": "ipython3",
   "version": "3.5.2"
  }
 },
 "nbformat": 4,
 "nbformat_minor": 2
}
