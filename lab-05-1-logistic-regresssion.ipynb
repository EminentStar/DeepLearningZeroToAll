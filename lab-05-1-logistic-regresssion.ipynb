{
 "cells": [
  {
   "cell_type": "code",
   "execution_count": 1,
   "metadata": {},
   "outputs": [],
   "source": [
    "import numpy as np\n",
    "import tensorflow as tf"
   ]
  },
  {
   "cell_type": "code",
   "execution_count": 4,
   "metadata": {},
   "outputs": [],
   "source": [
    "\"\"\"\n",
    "뭐 x data는 이전과 같이 x1, x2 multi dimension..(뭐 딥러닝을 공부한 시간이라고 한번 보자.)\n",
    "y data는 classifier에선 binary로 주어지죠. 0 or 1, False or True (시험 통과/실패 라고 보자)\n",
    "y는 0과 1 이렇게 항상 값 두개만 가진다는 것이 중요한 부분이다.\n",
    "\"\"\"\n",
    "x_data = [[1, 2], [2, 3], [3, 1], [4, 3], [5, 3], [6, 2]]\n",
    "y_data = [[0], [0], [0], [1], [1], [1]] # True of False\n",
    "\n",
    "# placeholders for a tensor that will be always fed.\n",
    "X = tf.placeholder(tf.float32, shape=[None, 2])\n",
    "Y = tf.placeholder(tf.float32, shape=[None, 1])\n",
    "\n",
    "W = tf.Variable(tf.random_normal([2, 1]), name='weight') # matmul(X, W)이니 들어오는 건 2\n",
    "b = tf.Variable(tf.random_normal([1]), name='bias')\n",
    "\n",
    "# Hypothesis using sigmoid: tf.div(1., 1. + tf.exp(tf.matmul(X, W)))\n",
    "hypothesis = tf.sigmoid(tf.matmul(X, W) + b)\n",
    "\n",
    "# cost/loss function\n",
    "cost = -tf.reduce_mean(Y * tf.log(hypothesis) + (1 - Y) * tf.log(1 - hypothesis))\n",
    "\n",
    "train = tf.train.GradientDescentOptimizer(learning_rate=0.01).minimize(cost)\n",
    "\n",
    "# Accuracy computation\n",
    "# True if hypothesis > 0.5 else False\n",
    "predicted = tf.cast(hypothesis > 0.5, dtype=tf.float32)\n",
    "accuracy = tf.reduce_mean(tf.cast(tf.equal(predicted, Y), dtype=tf.float32))"
   ]
  },
  {
   "cell_type": "code",
   "execution_count": 6,
   "metadata": {},
   "outputs": [
    {
     "name": "stdout",
     "output_type": "stream",
     "text": [
      "0 1.10342\n",
      "200 0.700637\n",
      "400 0.669823\n",
      "600 0.642681\n",
      "800 0.617826\n",
      "1000 0.59457\n",
      "1200 0.572554\n",
      "1400 0.55159\n",
      "1600 0.531572\n",
      "1800 0.512438\n",
      "2000 0.494149\n",
      "2200 0.476676\n",
      "2400 0.459995\n",
      "2600 0.444081\n",
      "2800 0.428911\n",
      "3000 0.41446\n",
      "3200 0.4007\n",
      "3400 0.387603\n",
      "3600 0.375142\n",
      "3800 0.363288\n",
      "4000 0.352013\n",
      "4200 0.341286\n",
      "4400 0.331081\n",
      "4600 0.32137\n",
      "4800 0.312127\n",
      "5000 0.303326\n",
      "5200 0.294943\n",
      "5400 0.286954\n",
      "5600 0.279337\n",
      "5800 0.272072\n",
      "6000 0.265137\n",
      "6200 0.258515\n",
      "6400 0.252188\n",
      "6600 0.246139\n",
      "6800 0.240352\n",
      "7000 0.234812\n",
      "7200 0.229507\n",
      "7400 0.224422\n",
      "7600 0.219545\n",
      "7800 0.214866\n",
      "8000 0.210374\n",
      "8200 0.206058\n",
      "8400 0.201908\n",
      "8600 0.197918\n",
      "8800 0.194077\n",
      "9000 0.190378\n",
      "9200 0.186814\n",
      "9400 0.183379\n",
      "9600 0.180065\n",
      "9800 0.176867\n",
      "10000 0.173779\n",
      "\n",
      "Hypothesis:  [[ 0.04157404]\n",
      " [ 0.17134896]\n",
      " [ 0.35311902]\n",
      " [ 0.76012319]\n",
      " [ 0.92539972]\n",
      " [ 0.9755367 ]] \n",
      "Correct (Y):  [[ 0.]\n",
      " [ 0.]\n",
      " [ 0.]\n",
      " [ 1.]\n",
      " [ 1.]\n",
      " [ 1.]] \n",
      "Accuracy:  1.0\n"
     ]
    }
   ],
   "source": [
    "# Launch graph\n",
    "with tf.Session() as sess:\n",
    "    # Initialize Tensorflow variables\n",
    "    sess.run(tf.global_variables_initializer())\n",
    "    \n",
    "    # loop를 돌면서 학습을 진행\n",
    "    for step in range(10001):\n",
    "        cost_val, _ = sess.run([cost, train], feed_dict={X: x_data, Y: y_data})\n",
    "        if step % 200 == 0:\n",
    "            print(step, cost_val)\n",
    "    \n",
    "    # Accuracy report\n",
    "    h, c, a = sess.run([hypothesis, predicted, accuracy],\n",
    "                      feed_dict={X: x_data, Y: y_data})\n",
    "    print(\"\\nHypothesis: \", h, \"\\nCorrect (Y): \", c, \"\\nAccuracy: \", a) \n",
    "    "
   ]
  },
  {
   "cell_type": "code",
   "execution_count": null,
   "metadata": {
    "collapsed": true
   },
   "outputs": [],
   "source": []
  }
 ],
 "metadata": {
  "kernelspec": {
   "display_name": "Python 3",
   "language": "python",
   "name": "python3"
  },
  "language_info": {
   "codemirror_mode": {
    "name": "ipython",
    "version": 3
   },
   "file_extension": ".py",
   "mimetype": "text/x-python",
   "name": "python",
   "nbconvert_exporter": "python",
   "pygments_lexer": "ipython3",
   "version": "3.5.2"
  }
 },
 "nbformat": 4,
 "nbformat_minor": 2
}
