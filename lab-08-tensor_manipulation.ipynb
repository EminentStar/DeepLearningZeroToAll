{
 "cells": [
  {
   "cell_type": "code",
   "execution_count": 2,
   "metadata": {
    "collapsed": true
   },
   "outputs": [],
   "source": [
    "import tensorflow as tf\n",
    "import numpy as np\n",
    "import pprint\n",
    "tf.set_random_seed(777) # for reproducibility\n",
    "\n",
    "pp = pprint.PrettyPrinter(indent=4)\n",
    "sess = tf.InteractiveSession()"
   ]
  },
  {
   "cell_type": "code",
   "execution_count": 3,
   "metadata": {},
   "outputs": [
    {
     "name": "stdout",
     "output_type": "stream",
     "text": [
      "array([ 0.,  1.,  2.,  3.,  4.,  5.,  6.])\n",
      "1\n",
      "(7,)\n",
      "0.0 1.0 6.0\n",
      "[ 2.  3.  4.] [ 4.  5.]\n",
      "[ 0.  1.] [ 3.  4.  5.  6.]\n"
     ]
    }
   ],
   "source": [
    "t = np.array([0., 1., 2., 3., 4., 5., 6.])\n",
    "pp.pprint(t)\n",
    "print(t.ndim) # rank; 몇차원 array냐\n",
    "print(t.shape) # shape; array가 어떻게 생겼냐?\n",
    "print(t[0], t[1], t[-1])\n",
    "print(t[2:5], t[4:-1])\n",
    "print(t[:2], t[3:])"
   ]
  },
  {
   "cell_type": "code",
   "execution_count": 4,
   "metadata": {},
   "outputs": [
    {
     "name": "stdout",
     "output_type": "stream",
     "text": [
      "array([[  1.,   2.,   3.],\n",
      "       [  4.,   5.,   6.],\n",
      "       [  7.,   8.,   9.],\n",
      "       [ 10.,  11.,  12.]])\n",
      "2\n",
      "(4, 3)\n"
     ]
    }
   ],
   "source": [
    "t = np.array([\n",
    "    [1., 2., 3.], \n",
    "    [4., 5., 6.], \n",
    "    [7., 8., 9.], \n",
    "    [10., 11., 12.]\n",
    "])\n",
    "pp.pprint(t)\n",
    "print(t.ndim)\n",
    "print(t.shape)"
   ]
  },
  {
   "cell_type": "code",
   "execution_count": 5,
   "metadata": {
    "scrolled": true
   },
   "outputs": [
    {
     "data": {
      "text/plain": [
       "array([1, 2, 3, 4], dtype=int32)"
      ]
     },
     "execution_count": 5,
     "metadata": {},
     "output_type": "execute_result"
    }
   ],
   "source": [
    "\"\"\"\n",
    "* Shape: \n",
    "* Rank:\n",
    "* Axis(축): \n",
    "주어진 텐서, 매트릭스에 대해서 이 값들이 얼만가를 이해하면 편해진다.\n",
    "\"\"\"\n",
    "\n",
    "t = tf.constant([1,2,3,4]) # rank: 1, shape: 4\n",
    "tf.shape(t).eval()\n",
    "\n",
    "# Rank를 파악하는 방법은 앞의 Anchor Bracket이 몇갠지 보면 됨\n",
    "# Shape은, rank가 2면 (c,d), 1이면 (?)\n",
    "# 이건 가장 오른쪽에 있는 d의 경우는 각 괄호를 타고 끝까지 들어가서 element의 개수를 세면 된다.\n",
    "\n",
    "t = tf.constant([\n",
    "    [1,2],\n",
    "    [3,4]\n",
    "])\n",
    "tf.shape(t).eval()\n",
    "\n",
    "# t = tf.constant([[[[1, 2, 3, 4], [5, 6, 7, 8], [9, 10, 11, 12]], [[13, 14, 15, 16], [17, 18, 19, 20], [21, 22, 23, 24]]]])\n",
    "t = tf.constant(\n",
    "    [ # axis: 0\n",
    "        [ # axis: 1\n",
    "            [ # axis: 2\n",
    "                [1, 2, 3, 4], # axis: 3 or -1\n",
    "                [5, 6, 7, 8], \n",
    "                [9, 10, 11, 12]\n",
    "            ],\n",
    "            [\n",
    "                [13, 14, 15, 16], \n",
    "                [17, 18, 19, 20], \n",
    "                [21, 22, 23, 24]\n",
    "            ]\n",
    "        ]\n",
    "    ]\n",
    ")\n",
    "tf.shape(t).eval()\n",
    "# (1, 2, 3, 4)\n",
    "# Rank가 4면 Axis도 4라고 보면된다.\n"
   ]
  },
  {
   "cell_type": "code",
   "execution_count": 6,
   "metadata": {},
   "outputs": [
    {
     "name": "stdout",
     "output_type": "stream",
     "text": [
      "Metrix 01 shape (2, 2)\n",
      "Metrix 02 shape (2, 1)\n",
      "----------------------------------------------------------------------------------------------------\n"
     ]
    },
    {
     "data": {
      "text/plain": [
       "array([[ 1.,  2.],\n",
       "       [ 6.,  8.]], dtype=float32)"
      ]
     },
     "execution_count": 6,
     "metadata": {},
     "output_type": "execute_result"
    }
   ],
   "source": [
    "\"\"\" Matmul VS Multiply \"\"\" \n",
    "matrix01 = tf.constant([[1., 2.], [3., 4.]]) # (2, 2)\n",
    "matrix02 = tf.constant([[1.], [2.]]) # (2, 1)\n",
    "\n",
    "print(\"Metrix 01 shape\", matrix01.shape)\n",
    "print(\"Metrix 02 shape\", matrix02.shape)\n",
    "\n",
    "tf.matmul(matrix01, matrix02).eval()\n",
    "\n",
    "print(\"-\"*100)\n",
    "\n",
    "# 주의할 것. 일반적인 곱은 matrix곱과는 결과가 다르다.. 의도적이라면 상관없긴 하지만\n",
    "(matrix01*matrix02).eval()"
   ]
  },
  {
   "cell_type": "code",
   "execution_count": 7,
   "metadata": {},
   "outputs": [
    {
     "data": {
      "text/plain": [
       "array([[ 5.,  5.]], dtype=float32)"
      ]
     },
     "execution_count": 7,
     "metadata": {},
     "output_type": "execute_result"
    }
   ],
   "source": [
    "\"\"\"\n",
    "위에서 곱이 일어난 이유,,,는\n",
    "Braodcasting이란 개념 때문임\n",
    "굉장히 유용하지만 잘못사용하면 독이 되는 개념이다.\n",
    "\"\"\" \n",
    "\n",
    "# shape이 같을때 연산\n",
    "matrix01 = tf.constant([[3., 3.]])\n",
    "matrix02 = tf.constant([[2., 2.]])\n",
    "(matrix01 + matrix02).eval()"
   ]
  },
  {
   "cell_type": "code",
   "execution_count": 8,
   "metadata": {},
   "outputs": [
    {
     "data": {
      "text/plain": [
       "array([[ 4.,  5.]], dtype=float32)"
      ]
     },
     "execution_count": 8,
     "metadata": {},
     "output_type": "execute_result"
    }
   ],
   "source": [
    "# shape이 다르더라도 연산을 해주는게 broadcasting이다\n",
    "matrix01 = tf.constant([[1., 2.]])\n",
    "\"\"\"\n",
    "01과 02는 맞지않지만 broadcasting을 통해\n",
    "[[3., 3.]]\n",
    "으로 맞춰준다.\n",
    "\"\"\"\n",
    "matrix02 = tf.constant([[3.]])\n",
    "(matrix01 + matrix02).eval() # [[(4., 5.)]]"
   ]
  },
  {
   "cell_type": "code",
   "execution_count": 9,
   "metadata": {},
   "outputs": [
    {
     "data": {
      "text/plain": [
       "array([[ 4.,  6.]], dtype=float32)"
      ]
     },
     "execution_count": 9,
     "metadata": {},
     "output_type": "execute_result"
    }
   ],
   "source": [
    "# rank가 다를때도 연산이 가능하다\n",
    "matrix01 = tf.constant([[1., 2.]])\n",
    "matrix02 = tf.constant([3., 4.])\n",
    "(matrix01+matrix02).eval()"
   ]
  },
  {
   "cell_type": "code",
   "execution_count": 10,
   "metadata": {},
   "outputs": [
    {
     "data": {
      "text/plain": [
       "array([[ 4.,  5.],\n",
       "       [ 5.,  6.]], dtype=float32)"
      ]
     },
     "execution_count": 10,
     "metadata": {},
     "output_type": "execute_result"
    }
   ],
   "source": [
    "# 아예 서로 굉장히 다른 형태로 생긴 텐서인 경우에도 앞에꺼도 extend, 뒤에꺼도 extend를 해서 계산한다.\n",
    "matrix01 = tf.constant([[1., 2.]])\n",
    "matrix02 = tf.constant([[3.], [4.]])\n",
    "(matrix01+matrix02).eval()"
   ]
  },
  {
   "cell_type": "code",
   "execution_count": 11,
   "metadata": {},
   "outputs": [
    {
     "data": {
      "text/plain": [
       "1"
      ]
     },
     "execution_count": 11,
     "metadata": {},
     "output_type": "execute_result"
    }
   ],
   "source": [
    "\"\"\"\n",
    "* Reduce mean\n",
    "  - 평균을 구하는데 줄여서 구하는 것.\n",
    "  - 어떤 행렬에서 값이 여러개 있는데 그걸 하나로 줄여준다.\n",
    "\"\"\"\n",
    "tf.reduce_mean([1, 2], axis=0).eval()\n",
    "# 1과 2의 평균이 1이 나온다.. 그래서 mean을 구할떄도 값이 int, float인지 구분"
   ]
  },
  {
   "cell_type": "code",
   "execution_count": 12,
   "metadata": {},
   "outputs": [
    {
     "data": {
      "text/plain": [
       "2.5"
      ]
     },
     "execution_count": 12,
     "metadata": {},
     "output_type": "execute_result"
    }
   ],
   "source": [
    "# 그래서 평균을 구할떈 반드시 floating number!\n",
    "\"\"\"\n",
    "axis 0:\n",
    "아래방향\n",
    "\n",
    "axis 1:\n",
    "왼쪽에서 우측방향으로\n",
    "\n",
    "\"\"\"\n",
    "x = ([[1., 2.],\n",
    "      [3., 4.]])\n",
    "\n",
    "tf.reduce_mean(x).eval()"
   ]
  },
  {
   "cell_type": "code",
   "execution_count": 13,
   "metadata": {},
   "outputs": [
    {
     "data": {
      "text/plain": [
       "array([ 2.,  3.], dtype=float32)"
      ]
     },
     "execution_count": 13,
     "metadata": {},
     "output_type": "execute_result"
    }
   ],
   "source": [
    "tf.reduce_mean(x, axis=0).eval()"
   ]
  },
  {
   "cell_type": "code",
   "execution_count": 14,
   "metadata": {},
   "outputs": [
    {
     "data": {
      "text/plain": [
       "array([ 1.5,  3.5], dtype=float32)"
      ]
     },
     "execution_count": 14,
     "metadata": {},
     "output_type": "execute_result"
    }
   ],
   "source": [
    "tf.reduce_mean(x, axis=1).eval()"
   ]
  },
  {
   "cell_type": "code",
   "execution_count": 15,
   "metadata": {},
   "outputs": [
    {
     "data": {
      "text/plain": [
       "array([ 1.5,  3.5], dtype=float32)"
      ]
     },
     "execution_count": 15,
     "metadata": {},
     "output_type": "execute_result"
    }
   ],
   "source": [
    "tf.reduce_mean(x, axis=-1).eval()\n",
    "\n",
    "#  같은 reduce_mean이더라도 축에 따라 값이 달라진다.\n",
    "# 축이 -1이란 것은 가장 안쪽의 값을 평균넣어라~ 가장 많이 사용하게 되겠죠..\n",
    "# 축없이 하면 모든 걸 평균구하라."
   ]
  },
  {
   "cell_type": "code",
   "execution_count": 16,
   "metadata": {},
   "outputs": [
    {
     "data": {
      "text/plain": [
       "10.0"
      ]
     },
     "execution_count": 16,
     "metadata": {},
     "output_type": "execute_result"
    }
   ],
   "source": [
    "x = ([[1., 2.],\n",
    "      [3., 4.]])\n",
    "\n",
    "tf.reduce_sum(x).eval()"
   ]
  },
  {
   "cell_type": "code",
   "execution_count": 17,
   "metadata": {},
   "outputs": [
    {
     "data": {
      "text/plain": [
       "array([ 4.,  6.], dtype=float32)"
      ]
     },
     "execution_count": 17,
     "metadata": {},
     "output_type": "execute_result"
    }
   ],
   "source": [
    "tf.reduce_sum(x, axis=0).eval()"
   ]
  },
  {
   "cell_type": "code",
   "execution_count": 18,
   "metadata": {},
   "outputs": [
    {
     "data": {
      "text/plain": [
       "array([ 3.,  7.], dtype=float32)"
      ]
     },
     "execution_count": 18,
     "metadata": {},
     "output_type": "execute_result"
    }
   ],
   "source": [
    "tf.reduce_sum(x, axis=-1).eval()"
   ]
  },
  {
   "cell_type": "code",
   "execution_count": 19,
   "metadata": {},
   "outputs": [
    {
     "data": {
      "text/plain": [
       "5.0"
      ]
     },
     "execution_count": 19,
     "metadata": {},
     "output_type": "execute_result"
    }
   ],
   "source": [
    "# 그래서 보통 많이 쓰는 것이, 제일 안쪽에 있는 축을 가지고\n",
    "# 합을 낸다음에 그것을 평균내는 걸 많이 사용 했었죠??\n",
    "# 그 이유를 바로 이제 알 수 있을 것임\n",
    "\"\"\"!!!!\"\"\"\n",
    "tf.reduce_mean(tf.reduce_sum(x, axis=-1)).eval()"
   ]
  },
  {
   "cell_type": "code",
   "execution_count": 20,
   "metadata": {},
   "outputs": [
    {
     "data": {
      "text/plain": [
       "array([1, 0, 0])"
      ]
     },
     "execution_count": 20,
     "metadata": {},
     "output_type": "execute_result"
    }
   ],
   "source": [
    "\"\"\"\n",
    "* Argmax\n",
    "또 많이 사용하는 것.\n",
    "\n",
    "이것도 축의 개념과 같이 사용 가능\n",
    "\n",
    "argmax는 맥시멈 값의 위치를 구하는 것이다.\n",
    "\"\"\"\n",
    "\n",
    "x = [[0, 1, 2],\n",
    "     [2, 1, 0]]\n",
    "\n",
    "tf.argmax(x, axis=0).eval() # 0번째 축으로 가장 큰것의 위치가 무엇이냐?\n",
    "# array([1, 0, 0])"
   ]
  },
  {
   "cell_type": "code",
   "execution_count": 21,
   "metadata": {},
   "outputs": [
    {
     "data": {
      "text/plain": [
       "array([2, 0])"
      ]
     },
     "execution_count": 21,
     "metadata": {},
     "output_type": "execute_result"
    }
   ],
   "source": [
    "tf.argmax(x, axis=1).eval() # 1번째 축에서 가장 큰것의 위치가 무엇이냐?\n",
    "# array([2, 0])"
   ]
  },
  {
   "cell_type": "code",
   "execution_count": 22,
   "metadata": {},
   "outputs": [
    {
     "data": {
      "text/plain": [
       "array([2, 0])"
      ]
     },
     "execution_count": 22,
     "metadata": {},
     "output_type": "execute_result"
    }
   ],
   "source": [
    "tf.argmax(x, axis=-1).eval() # -1번째 축으로 가장 큰것의 위치가 무엇이냐?\n",
    "# array([2, 0])"
   ]
  },
  {
   "cell_type": "code",
   "execution_count": 23,
   "metadata": {},
   "outputs": [
    {
     "data": {
      "text/plain": [
       "(2, 2, 3)"
      ]
     },
     "execution_count": 23,
     "metadata": {},
     "output_type": "execute_result"
    }
   ],
   "source": [
    "\"\"\"\n",
    "**Reshape**\n",
    "  - 가장 많이 사용!\n",
    "\"\"\"\n",
    "\n",
    "t = np.array([[[0, 1, 2],\n",
    "               [3, 4, 5]],\n",
    "              \n",
    "              [[6, 7, 8],\n",
    "               [9, 10, 11]]])\n",
    "\n",
    "t.shape"
   ]
  },
  {
   "cell_type": "code",
   "execution_count": 24,
   "metadata": {},
   "outputs": [
    {
     "data": {
      "text/plain": [
       "array([[ 0,  1,  2],\n",
       "       [ 3,  4,  5],\n",
       "       [ 6,  7,  8],\n",
       "       [ 9, 10, 11]])"
      ]
     },
     "execution_count": 24,
     "metadata": {},
     "output_type": "execute_result"
    }
   ],
   "source": [
    "tf.reshape(t, shape=[-1, 3]).eval() # 안에껀 3, 나머진 알아서해(-1). [-1, 3]또 이건 rank를 두개로 주는거지\n",
    "# 보통 가장 안쪽의 값은 잘 안 바꾼다. 데이터가 막 섞이지는 않느다.. 바깥만 조정해서 전체를 조절"
   ]
  },
  {
   "cell_type": "code",
   "execution_count": 25,
   "metadata": {},
   "outputs": [
    {
     "data": {
      "text/plain": [
       "array([[[ 0,  1,  2]],\n",
       "\n",
       "       [[ 3,  4,  5]],\n",
       "\n",
       "       [[ 6,  7,  8]],\n",
       "\n",
       "       [[ 9, 10, 11]]])"
      ]
     },
     "execution_count": 25,
     "metadata": {},
     "output_type": "execute_result"
    }
   ],
   "source": [
    "tf.reshape(t, shape=[-1, 1, 3]).eval()"
   ]
  },
  {
   "cell_type": "code",
   "execution_count": 26,
   "metadata": {},
   "outputs": [
    {
     "data": {
      "text/plain": [
       "array([0, 1, 2], dtype=int32)"
      ]
     },
     "execution_count": 26,
     "metadata": {},
     "output_type": "execute_result"
    }
   ],
   "source": [
    "\"\"\"\n",
    "Reshape(squeeze, expand)\n",
    "\"\"\"\n",
    "# 막 속에 있는 걸 squeeze해버리는거; 쫙 펴준다\n",
    "tf.squeeze([[0], [1],[2]]).eval()"
   ]
  },
  {
   "cell_type": "code",
   "execution_count": 27,
   "metadata": {},
   "outputs": [
    {
     "data": {
      "text/plain": [
       "array([[0],\n",
       "       [1],\n",
       "       [2]], dtype=int32)"
      ]
     },
     "execution_count": 27,
     "metadata": {},
     "output_type": "execute_result"
    }
   ],
   "source": [
    "# dimension을 추가해주고 싶을 때\n",
    "tf.expand_dims([0, 1, 2], 1).eval()"
   ]
  },
  {
   "cell_type": "code",
   "execution_count": 28,
   "metadata": {},
   "outputs": [
    {
     "data": {
      "text/plain": [
       "array([[[ 1.,  0.,  0.]],\n",
       "\n",
       "       [[ 0.,  1.,  0.]],\n",
       "\n",
       "       [[ 0.,  0.,  1.]],\n",
       "\n",
       "       [[ 1.,  0.,  0.]]], dtype=float32)"
      ]
     },
     "execution_count": 28,
     "metadata": {},
     "output_type": "execute_result"
    }
   ],
   "source": [
    "\"\"\"\n",
    "또 뒤로가면 갈수록 많이 사용하는 건데\n",
    "one_hot\n",
    "\n",
    "어떤 인덱스값만 hot하게 만들어주는?(그자리만 1이되고 나머지는 0이되는)\n",
    "\n",
    "어떤 주어진 숫자를 one hot으로 바꿔야하는데, 일일이 한하고 텐서플로우에 잇다.\n",
    "\"\"\"\n",
    "tf.one_hot([[0], [1], [2], [0]], depth=3).eval() # one_hot이 자동적으로 rank를 늘려주게된다.."
   ]
  },
  {
   "cell_type": "code",
   "execution_count": 29,
   "metadata": {},
   "outputs": [
    {
     "data": {
      "text/plain": [
       "array([[ 1.,  0.,  0.],\n",
       "       [ 0.,  1.,  0.],\n",
       "       [ 0.,  0.,  1.],\n",
       "       [ 1.,  0.,  0.]], dtype=float32)"
      ]
     },
     "execution_count": 29,
     "metadata": {},
     "output_type": "execute_result"
    }
   ],
   "source": [
    "# 그게 싫다면 one_hot후 reshape하면 됨\n",
    "t = tf.one_hot([[0], [1], [2], [0]], depth=3)\n",
    "tf.reshape(t, shape=[-1, 3]).eval()"
   ]
  },
  {
   "cell_type": "code",
   "execution_count": 30,
   "metadata": {},
   "outputs": [
    {
     "data": {
      "text/plain": [
       "array([1, 2, 3, 4], dtype=int32)"
      ]
     },
     "execution_count": 30,
     "metadata": {},
     "output_type": "execute_result"
    }
   ],
   "source": [
    "\"\"\"\n",
    "Casting\n",
    "도 많이 사용한다.\n",
    "\n",
    "뭐 float으로 주어진 텐서를 integer나 \n",
    "boolean로 바꾸거나(Accuracy 계산할 때, True가 많이 나온 걸 개수를 구하고 싶으면 1로 만들어서 합하면 되겟죠.)\n",
    "\"\"\"\n",
    "\n",
    "tf.cast([1.8, 2.2, 3.3, 4.9], tf.int32).eval()"
   ]
  },
  {
   "cell_type": "code",
   "execution_count": 31,
   "metadata": {},
   "outputs": [
    {
     "data": {
      "text/plain": [
       "array([1, 0, 1, 0], dtype=int32)"
      ]
     },
     "execution_count": 31,
     "metadata": {},
     "output_type": "execute_result"
    }
   ],
   "source": [
    "tf.cast([True, False, 1 == 1, 0 == 1], tf.int32).eval()"
   ]
  },
  {
   "cell_type": "code",
   "execution_count": 32,
   "metadata": {},
   "outputs": [
    {
     "data": {
      "text/plain": [
       "array([[1, 4],\n",
       "       [2, 5],\n",
       "       [3, 6]], dtype=int32)"
      ]
     },
     "execution_count": 32,
     "metadata": {},
     "output_type": "execute_result"
    }
   ],
   "source": [
    "\"\"\"\n",
    "Stack도 많이 사용\n",
    "\"\"\"\n",
    "\n",
    "x = [1, 4]\n",
    "y = [2, 5]\n",
    "z = [3, 6]\n",
    "\n",
    "# Pack along first dim.\n",
    "tf.stack([x, y, z]).eval()"
   ]
  },
  {
   "cell_type": "code",
   "execution_count": 33,
   "metadata": {},
   "outputs": [
    {
     "data": {
      "text/plain": [
       "array([[1, 2, 3],\n",
       "       [4, 5, 6]], dtype=int32)"
      ]
     },
     "execution_count": 33,
     "metadata": {},
     "output_type": "execute_result"
    }
   ],
   "source": [
    "tf.stack([x, y, z], axis=1).eval()"
   ]
  },
  {
   "cell_type": "code",
   "execution_count": 35,
   "metadata": {},
   "outputs": [
    {
     "data": {
      "text/plain": [
       "array([[1, 4],\n",
       "       [2, 5],\n",
       "       [3, 6]], dtype=int32)"
      ]
     },
     "execution_count": 35,
     "metadata": {},
     "output_type": "execute_result"
    }
   ],
   "source": [
    "tf.stack([x, y, z], axis=0).eval()"
   ]
  },
  {
   "cell_type": "code",
   "execution_count": 38,
   "metadata": {},
   "outputs": [
    {
     "data": {
      "text/plain": [
       "array([[1, 2, 3],\n",
       "       [4, 5, 6]], dtype=int32)"
      ]
     },
     "execution_count": 38,
     "metadata": {},
     "output_type": "execute_result"
    }
   ],
   "source": [
    "tf.stack([x, y, z], axis=-1).eval()"
   ]
  },
  {
   "cell_type": "code",
   "execution_count": 39,
   "metadata": {},
   "outputs": [
    {
     "data": {
      "text/plain": [
       "array([[1, 1, 1],\n",
       "       [1, 1, 1]], dtype=int32)"
      ]
     },
     "execution_count": 39,
     "metadata": {},
     "output_type": "execute_result"
    }
   ],
   "source": [
    "\"\"\"\n",
    "ones_like\n",
    "zeros_like\n",
    "주어진 형태의 텐서가 있을 때, \n",
    "이거랑 모양이 똑같은 것으로 0 혹은 1로 다 들어있는 텐서를 만들고 싶을때\n",
    "\"\"\"\n",
    "x = [[0, 1, 2],\n",
    "     [2, 1, 0]]\n",
    "\n",
    "tf.ones_like(x).eval()"
   ]
  },
  {
   "cell_type": "code",
   "execution_count": 40,
   "metadata": {},
   "outputs": [
    {
     "data": {
      "text/plain": [
       "array([[0, 0, 0],\n",
       "       [0, 0, 0]], dtype=int32)"
      ]
     },
     "execution_count": 40,
     "metadata": {},
     "output_type": "execute_result"
    }
   ],
   "source": [
    "tf.zeros_like(x).eval()"
   ]
  },
  {
   "cell_type": "code",
   "execution_count": 42,
   "metadata": {},
   "outputs": [
    {
     "name": "stdout",
     "output_type": "stream",
     "text": [
      "1 4\n",
      "2 5\n",
      "3 6\n",
      "--------------------------------------------------\n",
      "1 4 7\n",
      "2 5 8\n",
      "3 6 9\n"
     ]
    }
   ],
   "source": [
    "\"\"\"\n",
    "zip\n",
    "복수개의 텐서를 가지고 있을때 \n",
    "그걸 for loop같은 거로 통해서 한방에 실행시키고 싶을떄?\n",
    "\"\"\"\n",
    "\n",
    "for x, y in zip([1, 2, 3], [4, 5, 6]):\n",
    "    print(x, y)\n",
    "    \n",
    "print(\"-\"*50)\n",
    "\n",
    "for x, y, z in zip([1, 2, 3], [4, 5, 6], [7, 8, 9]):\n",
    "    print(x, y, z)"
   ]
  },
  {
   "cell_type": "code",
   "execution_count": null,
   "metadata": {
    "collapsed": true
   },
   "outputs": [],
   "source": []
  }
 ],
 "metadata": {
  "kernelspec": {
   "display_name": "Python 3",
   "language": "python",
   "name": "python3"
  },
  "language_info": {
   "codemirror_mode": {
    "name": "ipython",
    "version": 3
   },
   "file_extension": ".py",
   "mimetype": "text/x-python",
   "name": "python",
   "nbconvert_exporter": "python",
   "pygments_lexer": "ipython3",
   "version": "3.5.2"
  }
 },
 "nbformat": 4,
 "nbformat_minor": 2
}
